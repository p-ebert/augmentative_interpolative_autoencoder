{
  "nbformat": 4,
  "nbformat_minor": 0,
  "metadata": {
    "kernelspec": {
      "display_name": "Python 3",
      "language": "python",
      "name": "python3"
    },
    "language_info": {
      "codemirror_mode": {
        "name": "ipython",
        "version": 3
      },
      "file_extension": ".py",
      "mimetype": "text/x-python",
      "name": "python",
      "nbconvert_exporter": "python",
      "pygments_lexer": "ipython3",
      "version": "3.7.3"
    },
    "colab": {
      "name": "MNIST_AugIntAE_final_version.ipynb",
      "provenance": [],
      "collapsed_sections": [
        "pnnDg0kQzzDM",
        "mqBAjF3mzzDN",
        "XPVxQXV_zzDO",
        "XX2CX-8hzzDP",
        "QxjcGzTMbqtY",
        "5khP40hWfX-1",
        "iUKXDbJoqLSQ",
        "sYzmRCLqfrah",
        "KxLTN7tEzzDP",
        "u0bktyWtzzDR",
        "IEtluiOezzDR",
        "rM6kquQ3zzDT",
        "uGiiQr5yitDF",
        "-sfVV1cUuQkS",
        "YmUaLSWCTsV2",
        "sZPugihjT6d4"
      ]
    },
    "accelerator": "GPU"
  },
  "cells": [
    {
      "cell_type": "markdown",
      "metadata": {
        "id": "jaq85AhYzzDK"
      },
      "source": [
        "Few-shot image generation (Daniil Lotkov & Pierre Ebert)\n",
        "======"
      ]
    },
    {
      "cell_type": "code",
      "metadata": {
        "id": "CUuEigPkK4B9"
      },
      "source": [
        "!pip install pytorch-fid"
      ],
      "execution_count": null,
      "outputs": []
    },
    {
      "cell_type": "code",
      "metadata": {
        "id": "pj7y6ix8zzDM"
      },
      "source": [
        "import torch\n",
        "import torch.nn as nn\n",
        "import torch.nn.functional as F\n",
        "import cv2\n",
        "\n",
        "import matplotlib.pyplot as plt\n",
        "plt.set_cmap('gray')\n",
        "%matplotlib inline"
      ],
      "execution_count": null,
      "outputs": []
    },
    {
      "cell_type": "code",
      "metadata": {
        "id": "QrgtgGcsrPD1"
      },
      "source": [
        "use_google_drive = False\n",
        "\n",
        "if use_google_drive:\n",
        "    from google.colab import drive\n",
        "    drive.mount('/content/drive')\n",
        "    %cd /content/drive/My\\ Drive/AugIntAE/\n",
        "    !pwd"
      ],
      "execution_count": null,
      "outputs": []
    },
    {
      "cell_type": "markdown",
      "metadata": {
        "id": "pnnDg0kQzzDM"
      },
      "source": [
        "Parameter Settings\n",
        "-------------------\n"
      ]
    },
    {
      "cell_type": "code",
      "metadata": {
        "id": "nusNmtJqzzDN"
      },
      "source": [
        "latent_dims = 32\n",
        "num_epochs = 50\n",
        "batch_size = 128\n",
        "capacity = 64\n",
        "learning_rate = 1e-3\n",
        "use_gpu = True\n",
        "generator_period = 5\n",
        "\n",
        "if_use_discriminator = True\n",
        "\n",
        "#torch.cuda.manual_seed(seed=1)\n",
        "#torch.random.manual_seed(1)      "
      ],
      "execution_count": null,
      "outputs": []
    },
    {
      "cell_type": "markdown",
      "metadata": {
        "id": "mqBAjF3mzzDN"
      },
      "source": [
        "MNIST Data Loading\n",
        "-------------------"
      ]
    },
    {
      "cell_type": "code",
      "metadata": {
        "id": "yU-R-PCczzDN"
      },
      "source": [
        "%%capture\n",
        "\n",
        "import torchvision.transforms as transforms\n",
        "from torch.utils.data import DataLoader\n",
        "from torchvision.datasets import MNIST, EMNIST, FashionMNIST\n",
        "\n",
        "img_transform = transforms.Compose([\n",
        "    transforms.ToTensor(),\n",
        "    # transforms.Normalize((0.5,), (0.5,)) # I don't include it here cuz affine needs [0, 1]\n",
        "])\n",
        "\n",
        "train_dataset = MNIST(root='./data/MNIST', download=True, train=True, transform=img_transform)\n",
        "train_dataloader = DataLoader(train_dataset, batch_size=batch_size, shuffle=True)\n",
        "\n",
        "test_dataset = MNIST(root='./data/MNIST', download=True, train=False, transform=img_transform)\n",
        "test_dataloader = DataLoader(test_dataset, batch_size=batch_size, shuffle=True)"
      ],
      "execution_count": null,
      "outputs": []
    },
    {
      "cell_type": "code",
      "metadata": {
        "colab": {
          "base_uri": "https://localhost:8080/",
          "height": 153
        },
        "id": "U4n7xdFxbk-h",
        "outputId": "124ea164-519e-4dbc-921f-de8230dad3a6"
      },
      "source": [
        "#Image manipulation tools\r\n",
        "import PIL\r\n",
        "import numpy as np\r\n",
        "import torchvision\r\n",
        "from copy import deepcopy\r\n",
        "\r\n",
        "\r\n",
        "def sample_in_range(range_):\r\n",
        "    sample = None\r\n",
        "    if type(range_[0]) is tuple:\r\n",
        "        sample = (sample_in_range(range_[0]), sample_in_range(range_[1]))\r\n",
        "    else:\r\n",
        "        sample = type(range_[0])(np.random.uniform(range_[0], range_[1]))\r\n",
        "    return sample\r\n",
        "\r\n",
        "def sample_augmentations(augmentation_ranges):\r\n",
        "    augmentations = deepcopy(augmentation_ranges)\r\n",
        "    for function, arguments in augmentations.items():\r\n",
        "        arguments['parameters'] = {}\r\n",
        "        for name, range_ in arguments.get('ranges', {}).items():\r\n",
        "            arguments['parameters'][name] = sample_in_range(range_)\r\n",
        "    return augmentations\r\n",
        "\r\n",
        "def weight_values(value_1, value_2, alpha):\r\n",
        "    value = None\r\n",
        "    if type(value_1) is not tuple:\r\n",
        "        value = alpha * value_1 + (1 - alpha) * value_2\r\n",
        "    else:\r\n",
        "        value = (alpha * value_1[0] + (1 - alpha) * value_2[0],\r\n",
        "                 alpha * value_1[1] + (1 - alpha) * value_2[1])\r\n",
        "    return value\r\n",
        "\r\n",
        "def get_weighted_augmentations(augmentations_1, augmentations_2, alpha=0.5):\r\n",
        "    mean_augmentations = deepcopy(augmentations_1)\r\n",
        "    for function in augmentations_1:\r\n",
        "        for name in mean_augmentations[function]['parameters']:\r\n",
        "            mean_augmentations[function]['parameters'][name] = \\\r\n",
        "                        weight_values(augmentations_1[function]['parameters'][name], \r\n",
        "                                     augmentations_2[function]['parameters'][name],\r\n",
        "                                     alpha=alpha)\r\n",
        "    return mean_augmentations\r\n",
        "      \r\n",
        "def apply_augmentations(image_batch, augmentations):\r\n",
        "    augmented_image_batch = image_batch\r\n",
        "    for function, arguments in augmentations.items():\r\n",
        "        augmented_image_batch = function(augmented_image_batch, **arguments['parameters'], **arguments.get('kwargs', {}))\r\n",
        "    return augmented_image_batch\r\n",
        "\r\n",
        "\r\n",
        "augmentation_ranges = {\r\n",
        "    torchvision.transforms.functional.affine: {\r\n",
        "        'ranges': {\r\n",
        "            'angle': (-20, 20),\r\n",
        "            'translate': ((-4, 4), (-4, 4)),\r\n",
        "            'scale': (0.8, 1.2),\r\n",
        "        },\r\n",
        "        'kwargs': {\r\n",
        "            'shear': (-6,6),\r\n",
        "            'resample': PIL.Image.BILINEAR,\r\n",
        "\r\n",
        "            # For testing without interpolation \r\n",
        "            # (uncomment this and comment out 'ranges')\r\n",
        "            #\r\n",
        "            # 'angle': 0,\r\n",
        "            # 'translate': (0, 0),\r\n",
        "            # 'scale': 1,\r\n",
        "        },\r\n",
        "    },\r\n",
        "\r\n",
        "    torchvision.transforms.functional.normalize: {\r\n",
        "        'kwargs': {\r\n",
        "            'mean': 0.5,\r\n",
        "            'std': 0.5,\r\n",
        "        },\r\n",
        "    },\r\n",
        "}\r\n",
        "\r\n",
        "alpha = 0.3\r\n",
        "\r\n",
        "for image_batch, _ in train_dataloader:\r\n",
        "    augmentations_1 = sample_augmentations(augmentation_ranges)\r\n",
        "    augmentations_2 = sample_augmentations(augmentation_ranges)\r\n",
        "    augmentations_combined = get_weighted_augmentations(augmentations_1,\r\n",
        "                                                        augmentations_2,\r\n",
        "                                                        alpha=alpha)\r\n",
        "    \r\n",
        "    image_batch_1 = apply_augmentations(image_batch, augmentations_1)\r\n",
        "    image_batch_2 = apply_augmentations(image_batch, augmentations_2)\r\n",
        "    image_batch_combined = apply_augmentations(image_batch, augmentations_combined)\r\n",
        "\r\n",
        "    np_imagegrid = torchvision.utils.make_grid(\r\n",
        "                  [image_batch[0], image_batch_1[0], image_batch_2[0], image_batch_combined[0]], \r\n",
        "                  4, 1).numpy()\r\n",
        "    plt.imshow(np.transpose(np_imagegrid, (1, 2, 0)))\r\n",
        "    plt.show()\r\n",
        "\r\n",
        "    break"
      ],
      "execution_count": null,
      "outputs": [
        {
          "output_type": "stream",
          "text": [
            "Clipping input data to the valid range for imshow with RGB data ([0..1] for floats or [0..255] for integers).\n"
          ],
          "name": "stderr"
        },
        {
          "output_type": "display_data",
          "data": {
            "image/png": "[encoded data removed]",
            "text/plain": [
              "<Figure size 432x288 with 1 Axes>"
            ]
          },
          "metadata": {
            "tags": [],
            "needs_background": "light"
          }
        }
      ]
    },
    {
      "cell_type": "markdown",
      "metadata": {
        "id": "XPVxQXV_zzDO"
      },
      "source": [
        "Adversarial AugIntAE Definition\n",
        "-----------------------"
      ]
    },
    {
      "cell_type": "code",
      "metadata": {
        "colab": {
          "base_uri": "https://localhost:8080/"
        },
        "id": "HKT4dujaJVTe",
        "outputId": "367fa1fd-c789-4c3b-a5ba-c7cff0d3ba11"
      },
      "source": [
        "class Encoder(nn.Module):\n",
        "    def __init__(self):\n",
        "        super(self.__class__, self).__init__()\n",
        "        c = capacity\n",
        "        self.conv1 = nn.Conv2d(in_channels=1, out_channels=c, kernel_size=4, stride=2, padding=1) # out: c x 14 x 14\n",
        "        self.conv2 = nn.Conv2d(in_channels=c, out_channels=c*2, kernel_size=4, stride=2, padding=1) # out: c x 7 x 7\n",
        "        self.bn1 = nn.BatchNorm2d(c*2)\n",
        "        self.fc1 = nn.Linear(in_features=c*2*7*7, out_features=c*7*7)\n",
        "        self.bn2 = nn.BatchNorm1d(c*7*7)\n",
        "        self.fc2 = nn.Linear(in_features=c*7*7, out_features=latent_dims)\n",
        "           \n",
        "    def forward(self, x):\n",
        "        x = F.leaky_relu(self.conv1(x), negative_slope=0.1)\n",
        "        x = F.leaky_relu(self.conv2(x), negative_slope=0.1)\n",
        "        x = self.bn1(x)\n",
        "        x = x.view(x.size(0), -1) # flatten batch of multi-channel feature maps to a batch of feature vectors\n",
        "        x = self.bn2(F.leaky_relu(self.fc1(x), negative_slope=0.1))\n",
        "        x = self.fc2(x)\n",
        "        return x\n",
        "\n",
        "class Decoder(nn.Module):\n",
        "    def __init__(self):\n",
        "        super(self.__class__, self).__init__()\n",
        "        c = capacity\n",
        "        self.fc2 = nn.Linear(in_features=latent_dims, out_features=c*7*7)\n",
        "        self.bn3 = nn.BatchNorm1d(c*7*7)\n",
        "        self.fc1 = nn.Linear(in_features=c*7*7, out_features=2*c*7*7)\n",
        "        self.bn2 = nn.BatchNorm1d(2*c*7*7)\n",
        "        self.conv2 = nn.ConvTranspose2d(in_channels=c*2, out_channels=c, kernel_size=4, stride=2, padding=1)\n",
        "        self.bn1 = nn.BatchNorm2d(c)\n",
        "        self.conv1 = nn.ConvTranspose2d(in_channels=c, out_channels=1, kernel_size=4, stride=2, padding=1)\n",
        "            \n",
        "    def forward(self, x):\n",
        "        x = F.relu(self.fc2(x))\n",
        "        x = self.bn3(x)\n",
        "        x = F.relu(self.fc1(x))\n",
        "        x = self.bn2(x)\n",
        "        x = x.view(x.size(0), capacity*2, 7, 7) # unflatten batch of feature vectors to a batch of multi-channel feature maps\n",
        "        x = F.relu(self.conv2(x))\n",
        "        x = self.bn1(x)\n",
        "        x = torch.tanh(self.conv1(x)) # last layer before output is tanh, since the images are normalized and 0-centered\n",
        "        return x\n",
        "\n",
        "class Discriminator(nn.Module):\n",
        "    def __init__(self):\n",
        "        super(self.__class__, self).__init__()\n",
        "        c = capacity\n",
        "        self.conv1 = nn.Conv2d(in_channels=1, out_channels=c, kernel_size=4, stride=2, padding=1) # out: c x 14 x 14\n",
        "        self.conv2 = nn.Conv2d(in_channels=c, out_channels=c*2, kernel_size=4, stride=2, padding=1) # out: c x 7 x 7\n",
        "        self.bn1 = nn.BatchNorm2d(c*2)\n",
        "        self.fc1 = nn.Linear(in_features=c*2*7*7, out_features=c*7*7)\n",
        "        self.bn2 = nn.BatchNorm1d(c*7*7)\n",
        "        self.fc2 = nn.Linear(in_features=c*7*7, out_features=1)\n",
        "            \n",
        "    def forward(self, x):\n",
        "        x = F.leaky_relu(self.conv1(x))\n",
        "        x = F.leaky_relu(self.conv2(x))\n",
        "        x = self.bn1(x)\n",
        "        x = x.view(x.size(0), -1) # flatten batch of multi-channel feature maps to a batch of feature vectors\n",
        "        x = F.leaky_relu(self.fc1(x))\n",
        "        x = self.bn2(x)\n",
        "        x = self.fc2(x)\n",
        "        x = F.sigmoid(x)\n",
        "        return x\n",
        "\n",
        "encoder = Encoder()\n",
        "\n",
        "device = torch.device(\"cuda:0\" if use_gpu and torch.cuda.is_available() else \"cpu\")\n",
        "encoder = encoder.to(device)\n",
        "\n",
        "num_params = sum(p.numel() for p in encoder.parameters() if p.requires_grad)\n",
        "print('Number of parameters encoder: %d' % num_params)\n",
        "\n",
        "\n",
        "decoder = Decoder()\n",
        "#for name, param in decoder.named_parameters():\n",
        "#    if param.requires_grad:\n",
        "#        print (name, param.shape)\n",
        "device = torch.device(\"cuda:0\" if use_gpu and torch.cuda.is_available() else \"cpu\")\n",
        "decoder = decoder.to(device)\n",
        "\n",
        "num_params = sum(p.numel() for p in decoder.parameters() if p.requires_grad)\n",
        "print('Number of parameters decoder: %d' % num_params)\n",
        "\n",
        "if if_use_discriminator:\n",
        "    discriminator = Discriminator()\n",
        "\n",
        "    device = torch.device(\"cuda:0\" if use_gpu and torch.cuda.is_available() else \"cpu\")\n",
        "    discriminator = discriminator.to(device)\n",
        "\n",
        "    num_params = sum(p.numel() for p in discriminator.parameters() if p.requires_grad)\n",
        "    print('Number of parameters discriminator: %d' % num_params)"
      ],
      "execution_count": null,
      "outputs": [
        {
          "output_type": "stream",
          "text": [
            "Number of parameters encoder: 19911328\n",
            "Number of parameters decoder: 19929857\n",
            "Number of parameters discriminator: 19814081\n"
          ],
          "name": "stdout"
        }
      ]
    },
    {
      "cell_type": "markdown",
      "metadata": {
        "id": "XX2CX-8hzzDP"
      },
      "source": [
        "Train Adversarial AugIntAE\n",
        "--------"
      ]
    },
    {
      "cell_type": "code",
      "metadata": {
        "scrolled": true,
        "id": "pPUPBG8EzzDP"
      },
      "source": [
        "from tqdm.notebook import tqdm\n",
        "\n",
        "optimizer_encoder = torch.optim.Adam(params=encoder.parameters(), lr=learning_rate, weight_decay=1e-5)\n",
        "optimizer_decoder = torch.optim.Adam(params=decoder.parameters(), lr=learning_rate, weight_decay=1e-5)\n",
        "if if_use_discriminator:\n",
        "  optimizer_discriminator = torch.optim.Adam(params=discriminator.parameters(), lr=learning_rate, weight_decay=1e-5)\n",
        "\n",
        "# set to training mode\n",
        "encoder.train()\n",
        "decoder.train()\n",
        "\n",
        "if if_use_discriminator:\n",
        "    discriminator.train()\n",
        "\n",
        "loss_rec_avg = []\n",
        "loss_adv_avg = []\n",
        "loss_adv_true = []\n",
        "loss_adv_false = []\n",
        "\n",
        "i=0\n",
        "k=1\n",
        "\n",
        "#Optional gradient norm regulation parameters\n",
        "autoencoder_norm = 1\n",
        "discrim_norm = 1\n",
        "\n",
        "print('Training ...')\n",
        "for epoch in range(num_epochs):\n",
        "    loss_rec_avg.append(0)\n",
        "    loss_adv_avg.append(0)\n",
        "    loss_adv_true.append(0)\n",
        "    loss_adv_false.append(0)\n",
        "    num_batches = 0\n",
        "    \n",
        "    for image_batch, _ in tqdm(train_dataloader):\n",
        "        \n",
        "        #Sampling interpolation coefficient for the batch\n",
        "        alpha=torch.distributions.uniform.Uniform(0.,1.).sample().numpy()\n",
        "\n",
        "        #Sampling and applying augmentations for the batch\n",
        "        augmentations_1 = sample_augmentations(augmentation_ranges)\n",
        "        augmentations_2 = sample_augmentations(augmentation_ranges)\n",
        "        augmentations_combined = get_weighted_augmentations(augmentations_1,\n",
        "                                                            augmentations_2,\n",
        "                                                            alpha=alpha)\n",
        "        \n",
        "        image_batch_1 = apply_augmentations(image_batch, augmentations_1)\n",
        "        image_batch_2 = apply_augmentations(image_batch, augmentations_2)\n",
        "        image_batch_combined = apply_augmentations(image_batch, augmentations_combined)\n",
        "        \n",
        "        image_batch_1 = image_batch_1.to(device)\n",
        "        image_batch_2 = image_batch_2.to(device)\n",
        "        image_batch_combined = image_batch_combined.to(device)\n",
        "\n",
        "        # encoding\n",
        "        image_batch_1_encoding = encoder(image_batch_1)\n",
        "        image_batch_2_encoding = encoder(image_batch_2)\n",
        "        alpha = torch.Tensor(alpha)\n",
        "        \n",
        "        # combining encodings\n",
        "        image_batch_combined_encoding = alpha * image_batch_1_encoding + (1 - alpha) * image_batch_2_encoding\n",
        "        \n",
        "        # decoder reconstruction\n",
        "        image_batch_recon = decoder(image_batch_combined_encoding)\n",
        "\n",
        "        # reconstruction error\n",
        "        loss_rec = F.mse_loss(image_batch_recon, image_batch_combined)\n",
        "\n",
        "        # discriminator update\n",
        "        loss_adv = torch.zeros(1).to(device)\n",
        "        \n",
        "        if if_use_discriminator:\n",
        "            batch_size_curr = image_batch.shape[0]\n",
        "\n",
        "            labels_true = torch.full((batch_size_curr,), 1, dtype=torch.float, device=device)\n",
        "            labels_false = torch.full((batch_size_curr,), 0, dtype=torch.float, device=device)\n",
        "\n",
        "            image_batch_true_pred = discriminator(image_batch_combined).view(-1)\n",
        "            image_batch_false_pred = discriminator(image_batch_recon).view(-1)\n",
        "\n",
        "            # adversarial error\n",
        "            error_true = F.binary_cross_entropy(image_batch_true_pred, labels_true, reduction=\"mean\")\n",
        "            error_false = F.binary_cross_entropy(image_batch_false_pred, labels_false, reduction=\"mean\")\n",
        "\n",
        "            loss_adv = error_true + error_false\n",
        "        \n",
        "        # backpropagation every generator period\n",
        "        if i % generator_period == 0:\n",
        "            optimizer_encoder.zero_grad()\n",
        "            optimizer_decoder.zero_grad()\n",
        "            loss = loss_rec + loss_adv #* (autoencoder_norm/discrim_norm) * k\n",
        "\n",
        "        #systematic backpropagation for adv loss\n",
        "        if if_use_discriminator:\n",
        "            optimizer_discriminator.zero_grad()\n",
        "\n",
        "        loss.backward()\n",
        "    \n",
        "        # one step of the optmizer (using the gradients from backpropagation)\n",
        "        if i % generator_period == 0:\n",
        "            optimizer_encoder.step()\n",
        "            optimizer_decoder.step()\n",
        "\n",
        "        if if_use_discriminator:\n",
        "            optimizer_discriminator.step()\n",
        "        \n",
        "        #Loss stats\n",
        "        loss_rec_avg[-1] += loss_rec.item()\n",
        "        loss_adv_avg[-1] += loss_adv.item()\n",
        "        loss_adv_true[-1] += error_true.item()\n",
        "        loss_adv_false[-1] += error_false.item()\n",
        "        num_batches += 1\n",
        "\n",
        "        #Gradient norm regulation\n",
        "        if if_use_discriminator:\n",
        "            #Calculating gradient norms\n",
        "            autoencoder_norm = 0\n",
        "            for p in encoder.parameters():\n",
        "                param_norm = p.grad.data.norm(2)\n",
        "                autoencoder_norm += param_norm.item() ** 2\n",
        "            \n",
        "            for p in decoder.parameters():\n",
        "                param_norm = p.grad.data.norm(2)\n",
        "                autoencoder_norm += param_norm.item() ** 2\n",
        "            \n",
        "            for p in discriminator.parameters():\n",
        "                param_norm = p.grad.data.norm(2)\n",
        "                autoencoder_norm += param_norm.item() ** 2\n",
        "            \n",
        "            autoencoder_norm = autoencoder_norm ** (1. / 2)\n",
        "\n",
        "            discrim_norm = 0\n",
        "            for p in discriminator.parameters():\n",
        "                param_norm = p.grad.data.norm(2)\n",
        "                discrim_norm += param_norm.item() ** 2\n",
        "            \n",
        "            discrim_norm = (discrim_norm ** (1. / 2))+0.001\n",
        "            #Calulating k-factor update\n",
        "            k_bar=k-0.001*(1-(error_true-error_false))\n",
        "            k=torch.max(torch.Tensor([0,torch.min(torch.Tensor([1,k_bar]))]))\n",
        "\n",
        "    i+=1\n",
        "    np_imagegrid = torchvision.utils.make_grid(\n",
        "                  [image_batch[0].cpu().detach(), \n",
        "                   image_batch_1[0].cpu().detach(), \n",
        "                   image_batch_2[0].cpu().detach(), \n",
        "                   image_batch_combined[0].cpu().detach(), \n",
        "                   image_batch_recon[0].cpu().detach()], \n",
        "                  5, 1).numpy()\n",
        "    plt.imshow(np.transpose(np_imagegrid, (1, 2, 0)))\n",
        "    plt.show()\n",
        "\n",
        "    loss_rec_avg[-1] /= num_batches\n",
        "    loss_adv_avg[-1] /= num_batches\n",
        "    loss_adv_true[-1] /= num_batches\n",
        "    loss_adv_false[-1] /= num_batches\n",
        "\n",
        "    print('Epoch [%d / %d] | reconstruction error: %f | adversarial error: %f | adversarial true error: %f | adversarial false error: %f' % (epoch+1, num_epochs, loss_rec_avg[-1], loss_adv_avg[-1], loss_adv_true[-1], loss_adv_false[-1]))\n",
        "\n",
        "#Saving the model\n",
        "torch.save(encoder.state_dict(), \"AugInt_encoder50_32lat.pth\")\n",
        "torch.save(decoder.state_dict(), \"AugInt_decoder50_32lat.pth\")"
      ],
      "execution_count": null,
      "outputs": []
    },
    {
      "cell_type": "markdown",
      "metadata": {
        "id": "QxjcGzTMbqtY"
      },
      "source": [
        "# VanillaAE "
      ]
    },
    {
      "cell_type": "code",
      "metadata": {
        "colab": {
          "base_uri": "https://localhost:8080/"
        },
        "id": "qrU2bV_IIYlk",
        "outputId": "f561a222-70cc-413b-b307-2ae2842c6123"
      },
      "source": [
        "class Vanilla_Encoder(nn.Module):\n",
        "    def __init__(self):\n",
        "        super(self.__class__, self).__init__()\n",
        "        c = capacity\n",
        "        self.conv1 = nn.Conv2d(in_channels=1, out_channels=c, kernel_size=4, stride=2, padding=1) # out: c x 14 x 14\n",
        "        self.conv2 = nn.Conv2d(in_channels=c, out_channels=c*2, kernel_size=4, stride=2, padding=1) # out: c x 7 x 7\n",
        "        self.bn1 = nn.BatchNorm2d(c*2)\n",
        "        self.fc1 = nn.Linear(in_features=c*2*7*7, out_features=c*7*7)\n",
        "        self.bn2 = nn.BatchNorm1d(c*7*7)\n",
        "        self.fc2 = nn.Linear(in_features=c*7*7, out_features=latent_dims)\n",
        "           \n",
        "    def forward(self, x):\n",
        "        x = F.leaky_relu(self.conv1(x), negative_slope=0.1)\n",
        "        x = F.leaky_relu(self.conv2(x), negative_slope=0.1)\n",
        "        x = self.bn1(x)\n",
        "        x = x.view(x.size(0), -1) # flatten batch of multi-channel feature maps to a batch of feature vectors\n",
        "        x = self.bn2(F.leaky_relu(self.fc1(x), negative_slope=0.1))\n",
        "        x = self.fc2(x)\n",
        "        return x\n",
        "\n",
        "class Vanilla_Decoder(nn.Module):\n",
        "    def __init__(self):\n",
        "        super(self.__class__, self).__init__()\n",
        "        c = capacity\n",
        "        self.fc2 = nn.Linear(in_features=latent_dims, out_features=c*7*7)\n",
        "        self.bn3 = nn.BatchNorm1d(c*7*7)\n",
        "        self.fc1 = nn.Linear(in_features=c*7*7, out_features=2*c*7*7)\n",
        "        self.bn2 = nn.BatchNorm1d(2*c*7*7)\n",
        "        self.conv2 = nn.ConvTranspose2d(in_channels=c*2, out_channels=c, kernel_size=4, stride=2, padding=1)\n",
        "        self.bn1 = nn.BatchNorm2d(c)\n",
        "        self.conv1 = nn.ConvTranspose2d(in_channels=c, out_channels=1, kernel_size=4, stride=2, padding=1)\n",
        "            \n",
        "    def forward(self, x):\n",
        "        x = F.relu(self.fc2(x))\n",
        "        x = self.bn3(x)\n",
        "        x = F.relu(self.fc1(x))\n",
        "        x = self.bn2(x)\n",
        "        x = x.view(x.size(0), capacity*2, 7, 7) # unflatten batch of feature vectors to a batch of multi-channel feature maps\n",
        "        x = F.relu(self.conv2(x))\n",
        "        x = self.bn1(x)\n",
        "        x = torch.tanh(self.conv1(x)) # last layer before output is tanh, since the images are normalized and 0-centered\n",
        "        return x\n",
        "\n",
        "vanilla_encoder = Vanilla_Encoder()\n",
        "\n",
        "device = torch.device(\"cuda:0\" if use_gpu and torch.cuda.is_available() else \"cpu\")\n",
        "vanilla_encoder = vanilla_encoder.to(device)\n",
        "\n",
        "num_params = sum(p.numel() for p in vanilla_encoder.parameters() if p.requires_grad)\n",
        "print('Number of parameters vanilla encoder: %d' % num_params)\n",
        "\n",
        "\n",
        "vanilla_decoder = Vanilla_Decoder()\n",
        "\n",
        "vanilla_decoder = vanilla_decoder.to(device)\n",
        "\n",
        "num_params = sum(p.numel() for p in vanilla_decoder.parameters() if p.requires_grad)\n",
        "print('Number of parameters vanilla decoder: %d' % num_params)\n"
      ],
      "execution_count": null,
      "outputs": [
        {
          "output_type": "stream",
          "text": [
            "Number of parameters vanilla encoder: 19911328\n",
            "Number of parameters vanilla decoder: 19929857\n"
          ],
          "name": "stdout"
        }
      ]
    },
    {
      "cell_type": "markdown",
      "metadata": {
        "id": "5khP40hWfX-1"
      },
      "source": [
        "# VanillaAE training"
      ]
    },
    {
      "cell_type": "code",
      "metadata": {
        "id": "GNY-s-E3ItZt"
      },
      "source": [
        "from tqdm.notebook import tqdm\n",
        "\n",
        "optimizer_vanilla_encoder = torch.optim.Adam(params=vanilla_encoder.parameters(), lr=learning_rate, weight_decay=1e-5)\n",
        "optimizer_vanilla_decoder = torch.optim.Adam(params=vanilla_decoder.parameters(), lr=learning_rate, weight_decay=1e-5)\n",
        "\n",
        "# set to training mode\n",
        "vanilla_encoder.train()\n",
        "vanilla_decoder.train()\n",
        "\n",
        "vanilla_loss_rec_avg = []\n",
        "\n",
        "i=0\n",
        "\n",
        "print('Training ...')\n",
        "for epoch in range(num_epochs):\n",
        "    vanilla_loss_rec_avg.append(0)\n",
        "    num_batches = 0\n",
        "    \n",
        "    for image_batch, _ in tqdm(train_dataloader):\n",
        "        \n",
        "        image_batch = torchvision.transforms.functional.normalize(image_batch, mean=0.5, std=0.5)\n",
        "  \n",
        "        # encoding\n",
        "        image_batch = image_batch.to(device)\n",
        "        \n",
        "        image_batch_encoding = vanilla_encoder(image_batch)\n",
        "        \n",
        "        image_batch_recon = vanilla_decoder(image_batch_encoding)\n",
        "\n",
        "        # reconstruction error\n",
        "        loss_rec = F.mse_loss(image_batch_recon, image_batch)\n",
        "        \n",
        "        \n",
        "        \n",
        "        # backpropagation\n",
        "\n",
        "        optimizer_vanilla_encoder.zero_grad()\n",
        "        optimizer_vanilla_decoder.zero_grad()\n",
        "        loss = loss_rec\n",
        "\n",
        "        loss.backward()\n",
        "\n",
        "        optimizer_vanilla_encoder.step()\n",
        "        optimizer_vanilla_decoder.step()\n",
        "\n",
        "        vanilla_loss_rec_avg[-1] += loss_rec.item()\n",
        "\n",
        "        num_batches += 1\n",
        "\n",
        "\n",
        "    i+=1\n",
        "    np_imagegrid = torchvision.utils.make_grid(\n",
        "                  [image_batch[0].cpu().detach(),  \n",
        "                   image_batch_recon[0].cpu().detach()], \n",
        "                  2, 1).numpy()\n",
        "    plt.imshow(np.transpose(np_imagegrid, (1, 2, 0)))\n",
        "    plt.show()\n",
        "\n",
        "    vanilla_loss_rec_avg[-1] /= num_batches\n",
        "    print(num_batches)\n",
        "\n",
        "    print('Epoch [%d / %d] | reconstruction error: %f |' % (epoch+1, num_epochs, vanilla_loss_rec_avg[-1]))\n",
        "\n",
        "\n",
        "torch.save(vanilla_encoder.state_dict(), \"vanilla_encoder50_32lat.pth\")\n",
        "torch.save(vanilla_decoder.state_dict(), \"vanilla_decoder50_32lat.pth\")"
      ],
      "execution_count": null,
      "outputs": []
    },
    {
      "cell_type": "markdown",
      "metadata": {
        "id": "iUKXDbJoqLSQ"
      },
      "source": [
        "## AugIntAE (No Discriminator)"
      ]
    },
    {
      "cell_type": "code",
      "metadata": {
        "id": "z3rLRd4wqca_"
      },
      "source": [
        "class NoD_Encoder(nn.Module):\n",
        "    def __init__(self):\n",
        "        super(self.__class__, self).__init__()\n",
        "        c = capacity\n",
        "        self.conv1 = nn.Conv2d(in_channels=1, out_channels=c, kernel_size=4, stride=2, padding=1) # out: c x 14 x 14\n",
        "        self.conv2 = nn.Conv2d(in_channels=c, out_channels=c*2, kernel_size=4, stride=2, padding=1) # out: c x 7 x 7\n",
        "        self.bn1 = nn.BatchNorm2d(c*2)\n",
        "        self.fc1 = nn.Linear(in_features=c*2*7*7, out_features=c*7*7)\n",
        "        self.bn2 = nn.BatchNorm1d(c*7*7)\n",
        "        self.fc2 = nn.Linear(in_features=c*7*7, out_features=latent_dims)\n",
        "           \n",
        "    def forward(self, x):\n",
        "        x = F.leaky_relu(self.conv1(x), negative_slope=0.1)\n",
        "        x = F.leaky_relu(self.conv2(x), negative_slope=0.1)\n",
        "        x = self.bn1(x)\n",
        "        x = x.view(x.size(0), -1) # flatten batch of multi-channel feature maps to a batch of feature vectors\n",
        "        x = self.bn2(F.leaky_relu(self.fc1(x), negative_slope=0.1))\n",
        "        x = self.fc2(x)\n",
        "        return x\n",
        "\n",
        "class NoD_Decoder(nn.Module):\n",
        "    def __init__(self):\n",
        "        super(self.__class__, self).__init__()\n",
        "        c = capacity\n",
        "        self.fc2 = nn.Linear(in_features=latent_dims, out_features=c*7*7)\n",
        "        self.bn3 = nn.BatchNorm1d(c*7*7)\n",
        "        self.fc1 = nn.Linear(in_features=c*7*7, out_features=2*c*7*7)\n",
        "        self.bn2 = nn.BatchNorm1d(2*c*7*7)\n",
        "        self.conv2 = nn.ConvTranspose2d(in_channels=c*2, out_channels=c, kernel_size=4, stride=2, padding=1)\n",
        "        self.bn1 = nn.BatchNorm2d(c)\n",
        "        self.conv1 = nn.ConvTranspose2d(in_channels=c, out_channels=1, kernel_size=4, stride=2, padding=1)\n",
        "            \n",
        "    def forward(self, x):\n",
        "        x = F.relu(self.fc2(x))\n",
        "        x = self.bn3(x)\n",
        "        x = F.relu(self.fc1(x))\n",
        "        x = self.bn2(x)\n",
        "        x = x.view(x.size(0), capacity*2, 7, 7) # unflatten batch of feature vectors to a batch of multi-channel feature maps\n",
        "        x = F.relu(self.conv2(x))\n",
        "        x = self.bn1(x)\n",
        "        x = torch.tanh(self.conv1(x)) # last layer before output is tanh, since the images are normalized and 0-centered\n",
        "        return x\n",
        "\n",
        "nod_encoder = NoD_Encoder()\n",
        "\n",
        "device = torch.device(\"cuda:0\" if use_gpu and torch.cuda.is_available() else \"cpu\")\n",
        "nod_encoder = nod_encoder.to(device)\n",
        "\n",
        "num_params = sum(p.numel() for p in nod_encoder.parameters() if p.requires_grad)\n",
        "print('Number of parameters encoder: %d' % num_params)\n",
        "\n",
        "\n",
        "nod_decoder = NoD_Decoder()\n",
        "#for name, param in decoder.named_parameters():\n",
        "#    if param.requires_grad:\n",
        "#        print (name, param.shape)\n",
        "device = torch.device(\"cuda:0\" if use_gpu and torch.cuda.is_available() else \"cpu\")\n",
        "nod_decoder = nod_decoder.to(device)\n",
        "\n",
        "num_params = sum(p.numel() for p in nod_decoder.parameters() if p.requires_grad)\n",
        "print('Number of parameters decoder: %d' % num_params)\n"
      ],
      "execution_count": null,
      "outputs": []
    },
    {
      "cell_type": "markdown",
      "metadata": {
        "id": "sYzmRCLqfrah"
      },
      "source": [
        "# AugIntAE (No Discriminator) training"
      ]
    },
    {
      "cell_type": "code",
      "metadata": {
        "scrolled": true,
        "id": "KS2tH28Xqj_5"
      },
      "source": [
        "if_use_discriminator = False\n",
        "generator_period = 1\n",
        "\n",
        "from tqdm.notebook import tqdm\n",
        "\n",
        "optimizer_nod_encoder = torch.optim.Adam(params=nod_encoder.parameters(), lr=learning_rate, weight_decay=1e-5)\n",
        "optimizer_nod_decoder = torch.optim.Adam(params=nod_decoder.parameters(), lr=learning_rate, weight_decay=1e-5)\n",
        "\n",
        "\n",
        "# set to training mode\n",
        "nod_encoder.train()\n",
        "nod_decoder.train()\n",
        "\n",
        "\n",
        "loss_rec_NOD_avg = []\n",
        "\n",
        "\n",
        "print('Training ...')\n",
        "\n",
        "for epoch in range(num_epochs):\n",
        "    loss_rec_NOD_avg.append(0)\n",
        "\n",
        "    num_batches = 0\n",
        "    \n",
        "    for image_batch, _ in tqdm(train_dataloader):\n",
        "        \n",
        "        alpha=torch.distributions.uniform.Uniform(0.,1.).sample().numpy()\n",
        "\n",
        "        augmentations_1 = sample_augmentations(augmentation_ranges)\n",
        "        augmentations_2 = sample_augmentations(augmentation_ranges)\n",
        "        augmentations_combined = get_weighted_augmentations(augmentations_1,\n",
        "                                                            augmentations_2,\n",
        "                                                            alpha=alpha)\n",
        "        \n",
        "        image_batch_1 = apply_augmentations(image_batch, augmentations_1)\n",
        "        image_batch_2 = apply_augmentations(image_batch, augmentations_2)\n",
        "        image_batch_combined = apply_augmentations(image_batch, augmentations_combined)\n",
        "        \n",
        "        image_batch_1 = image_batch_1.to(device)\n",
        "        image_batch_2 = image_batch_2.to(device)\n",
        "        image_batch_combined = image_batch_combined.to(device)\n",
        "\n",
        "        # encoding\n",
        "        image_batch_1_encoding = nod_encoder(image_batch_1)\n",
        "        image_batch_2_encoding = nod_encoder(image_batch_2)\n",
        "        alpha = torch.Tensor(alpha)\n",
        "        # combining encodings\n",
        "        image_batch_combined_encoding = alpha * image_batch_1_encoding + (1 - alpha) * image_batch_2_encoding\n",
        "        \n",
        "        # decoder reconstruction\n",
        "        image_batch_recon = nod_decoder(image_batch_combined_encoding)\n",
        "\n",
        "        # reconstruction error\n",
        "        loss_rec = F.mse_loss(image_batch_recon, image_batch_combined)\n",
        "\n",
        "        # discriminator update\n",
        "        loss_adv = torch.zeros(1).to(device)\n",
        "        \n",
        "\n",
        "        optimizer_nod_encoder.zero_grad()\n",
        "        optimizer_nod_decoder.zero_grad()\n",
        "        loss = loss_rec \n",
        "\n",
        "        loss.backward()\n",
        "\n",
        "        optimizer_nod_encoder.step()\n",
        "        optimizer_nod_decoder.step()\n",
        "\n",
        " \n",
        "\n",
        "        loss_rec_NOD_avg[-1] += loss_rec.item()\n",
        "\n",
        "        num_batches += 1\n",
        "\n",
        "    \n",
        "    #print(\"Loss coefficient\", autoencoder_norm/discrim_norm)\n",
        "    i+=1\n",
        "    np_imagegrid = torchvision.utils.make_grid(\n",
        "                  [image_batch[0].cpu().detach(), \n",
        "                   image_batch_1[0].cpu().detach(), \n",
        "                   image_batch_2[0].cpu().detach(), \n",
        "                   image_batch_combined[0].cpu().detach(),\n",
        "                   image_batch_recon[0].cpu().detach()], \n",
        "                  5, 1).numpy()\n",
        "    plt.imshow(np.transpose(np_imagegrid, (1, 2, 0)))\n",
        "    plt.show()\n",
        "\n",
        "    loss_rec_NOD_avg[-1] /= num_batches\n",
        "\n",
        "\n",
        "    print('Epoch [%d / %d] | reconstruction error: %f | ' % (epoch+1, num_epochs, loss_rec_NOD_avg[-1]))\n",
        "\n",
        "    \n",
        "\n",
        "torch.save(nod_encoder.state_dict(), \"AugInt_nodiscrim_encoder50_32lat.pth\")\n",
        "torch.save(nod_decoder.state_dict(), \"AugInt_nodiscrim_decoder50_32lat.pth\")"
      ],
      "execution_count": null,
      "outputs": []
    },
    {
      "cell_type": "markdown",
      "metadata": {
        "id": "KxLTN7tEzzDP"
      },
      "source": [
        "## Plot Training Curves\n",
        "--------------------"
      ]
    },
    {
      "cell_type": "code",
      "metadata": {
        "id": "u_41lGO0zzDQ"
      },
      "source": [
        "import matplotlib.pyplot as plt\n",
        "plt.ion()\n",
        "\n",
        "fig = plt.figure()\n",
        "plt.plot(vanilla_loss_rec_avg[:49], label=\"Vanilla AE\")\n",
        "plt.plot(loss_rec_NOD_avg[:49], label=\"AugIntAE with no discriminator\")\n",
        "plt.plot(loss_rec_avg[:49], label=\"AugIntAE\")\n",
        "plt.xlabel('Epochs')\n",
        "plt.ylabel('Reconstruction error (MSE)')\n",
        "plt.legend()\n",
        "plt.show()\n",
        "fig.savefig(\"training_error.png\")"
      ],
      "execution_count": null,
      "outputs": []
    },
    {
      "cell_type": "markdown",
      "metadata": {
        "id": "u0bktyWtzzDR"
      },
      "source": [
        "Evaluate on the Test Set (MNIST reconstruction)\n",
        "-------------------------"
      ]
    },
    {
      "cell_type": "code",
      "metadata": {
        "id": "w9IsXw6dzzDR",
        "colab": {
          "base_uri": "https://localhost:8080/"
        },
        "outputId": "39f8e670-da6e-41fe-aaf9-7631c62f4ad9"
      },
      "source": [
        "#Adversarial AugIntAE\n",
        "\n",
        "encoder = Encoder()\n",
        "encoder.load_state_dict(torch.load(\"AugInt_encoder50.pth\"))\n",
        "decoder = Decoder()\n",
        "decoder.load_state_dict(torch.load(\"AugInt_decoder50.pth\"))\n",
        "encoder = encoder.to(device)\n",
        "decoder = decoder.to(device)\n",
        "\n",
        "encoder.eval()\n",
        "decoder.eval()\n",
        "\n",
        "test_loss_avg, num_batches = 0, 0\n",
        "for image_batch, _ in test_dataloader:\n",
        "\n",
        "    image_batch = torchvision.transforms.functional.normalize(image_batch, mean=0.5, std=0.5)\n",
        "    \n",
        "    with torch.no_grad():\n",
        "\n",
        "        image_batch = image_batch.to(device)\n",
        "\n",
        "        # encoder-decoder reconstruction\n",
        "        image_batch_recon = decoder(encoder(image_batch))\n",
        "\n",
        "        # reconstruction error\n",
        "        loss = F.mse_loss(image_batch_recon, image_batch)\n",
        "\n",
        "        test_loss_avg += loss.item()\n",
        "        num_batches += 1\n",
        "    \n",
        "test_loss_avg /= num_batches\n",
        "print('average reconstruction error: %f' % (test_loss_avg))"
      ],
      "execution_count": null,
      "outputs": [
        {
          "output_type": "stream",
          "text": [
            "average reconstruction error: 0.090289\n"
          ],
          "name": "stdout"
        }
      ]
    },
    {
      "cell_type": "code",
      "metadata": {
        "colab": {
          "base_uri": "https://localhost:8080/"
        },
        "id": "qNtzmiGijjZi",
        "outputId": "23d2c971-6fbb-4c75-a1ff-b44d9540b827"
      },
      "source": [
        "#Vanilla AE\n",
        "vanilla_encoder = Vanilla_Encoder()\n",
        "vanilla_encoder.load_state_dict(torch.load(\"vanilla_encoder50.pth\"))\n",
        "vanilla_decoder = Vanilla_Decoder()\n",
        "vanilla_decoder.load_state_dict(torch.load(\"vanilla_decoder50.pth\"))\n",
        "vanilla_encoder = vanilla_encoder.to(device)\n",
        "vanilla_decoder = vanilla_decoder.to(device)\n",
        "\n",
        "vanilla_encoder.eval()\n",
        "vanilla_decoder.eval()\n",
        "\n",
        "test_loss_avg, num_batches = 0, 0\n",
        "for image_batch, _ in test_dataloader:\n",
        "\n",
        "    image_batch = torchvision.transforms.functional.normalize(image_batch, mean=0.5, std=0.5)\n",
        "    \n",
        "    with torch.no_grad():\n",
        "\n",
        "        image_batch = image_batch.to(device)\n",
        "\n",
        "        # encoder-decoder reconstruction\n",
        "        image_batch_recon = vanilla_decoder(vanilla_encoder(image_batch))\n",
        "\n",
        "        # reconstruction error\n",
        "        loss = F.mse_loss(image_batch_recon, image_batch)\n",
        "\n",
        "        test_loss_avg += loss.item()\n",
        "        num_batches += 1\n",
        "print(num_batches) \n",
        "print(test_loss_avg) \n",
        "test_loss_avg /= num_batches\n",
        "print('average reconstruction error: %f' % (test_loss_avg))"
      ],
      "execution_count": null,
      "outputs": [
        {
          "output_type": "stream",
          "text": [
            "79\n",
            "3.207971528172493\n",
            "average reconstruction error: 0.040607\n"
          ],
          "name": "stdout"
        }
      ]
    },
    {
      "cell_type": "code",
      "metadata": {
        "colab": {
          "base_uri": "https://localhost:8080/"
        },
        "id": "Ou-DQJhwK0am",
        "outputId": "df8005ef-d3dd-4b36-bee6-2b9c85c65068"
      },
      "source": [
        "#AugIntAE with no discrim\n",
        "noD_encoder = Encoder()\n",
        "noD_encoder.load_state_dict(torch.load(\"AugInt_nodiscrim_encoder50.pth\"))\n",
        "noD_decoder = Decoder()\n",
        "noD_decoder.load_state_dict(torch.load(\"AugInt_nodiscrim_decoder50.pth\"))\n",
        "noD_encoder = noD_encoder.to(device)\n",
        "noD_decoder = noD_decoder.to(device)\n",
        "\n",
        "noD_encoder.eval()\n",
        "noD_decoder.eval()\n",
        "\n",
        "test_loss_avg, num_batches = 0, 0\n",
        "for image_batch, _ in test_dataloader:\n",
        "\n",
        "    image_batch = torchvision.transforms.functional.normalize(image_batch, mean=0.5, std=0.5)\n",
        "    \n",
        "    with torch.no_grad():\n",
        "\n",
        "        image_batch = image_batch.to(device)\n",
        "\n",
        "        # encoder-decoder reconstruction\n",
        "        image_batch_recon = noD_decoder(noD_encoder(image_batch))\n",
        "\n",
        "        # reconstruction error\n",
        "        loss = F.mse_loss(image_batch_recon, image_batch)\n",
        "\n",
        "        test_loss_avg += loss.item()\n",
        "        num_batches += 1\n",
        "    \n",
        "test_loss_avg /= num_batches\n",
        "print('average reconstruction error: %f' % (test_loss_avg))"
      ],
      "execution_count": null,
      "outputs": [
        {
          "output_type": "stream",
          "text": [
            "average reconstruction error: 0.076686\n"
          ],
          "name": "stdout"
        }
      ]
    },
    {
      "cell_type": "code",
      "metadata": {
        "id": "5Z8yxXWVMb6K"
      },
      "source": [
        "encoder = Encoder()\n",
        "encoder.load_state_dict(torch.load(\"AugInt_encoder50.pth\"))\n",
        "decoder = Decoder()\n",
        "decoder.load_state_dict(torch.load(\"AugInt_decoder50.pth\"))\n",
        "encoder = encoder.to(device)\n",
        "decoder = decoder.to(device)\n",
        "\n",
        "vanilla_encoder = Vanilla_Encoder()\n",
        "vanilla_encoder.load_state_dict(torch.load(\"vanilla_encoder50.pth\"))\n",
        "vanilla_decoder = Vanilla_Decoder()\n",
        "vanilla_decoder.load_state_dict(torch.load(\"vanilla_decoder50.pth\"))\n",
        "vanilla_encoder = vanilla_encoder.to(device)\n",
        "vanilla_decoder = vanilla_decoder.to(device)\n",
        "\n",
        "noD_encoder = Encoder()\n",
        "noD_encoder.load_state_dict(torch.load(\"AugInt_nodiscrim_encoder50.pth\"))\n",
        "noD_decoder = Decoder()\n",
        "noD_decoder.load_state_dict(torch.load(\"AugInt_nodiscrim_decoder50.pth\"))\n",
        "noD_encoder = noD_encoder.to(device)\n",
        "noD_decoder = noD_decoder.to(device)\n",
        "\n",
        "\n",
        "def to_img(x):\n",
        "    x = 0.5 * (x + 1)\n",
        "    x = x.clamp(0, 1)\n",
        "    return x.cpu().detach().numpy()\n",
        "    \n",
        "with torch.no_grad():\n",
        "    images, labels = iter(test_dataloader).next()[:5] #.to_device(device)\n",
        "    images = images[:5].to(device)\n",
        "\n",
        "    images = torchvision.transforms.functional.normalize(images, mean=0.5, std=0.5)\n",
        "\n",
        "    augint_images = decoder(encoder(images))\n",
        "    augint_noD_images = noD_decoder(noD_encoder(images))\n",
        "    vanilla_images = vanilla_decoder(vanilla_encoder(images))\n",
        "\n",
        "    images = to_img(images)\n",
        "    vanilla_images = to_img(vanilla_images)\n",
        "    augint_noD_images = to_img(augint_noD_images)\n",
        "    augint_images = to_img(augint_images)\n",
        "\n",
        "    fig, ax  = plt.subplots(4, 5,figsize=(15,15))\n",
        "    fig.tight_layout(h_pad=-20)\n",
        "\n",
        "    for i in range(5):\n",
        "        ax[0,i].imshow(images[i].reshape((28,28,)))\n",
        "        ax[0,i].set_axis_off()\n",
        "        ax[1,i].imshow(vanilla_images[i].reshape((28,28,)))\n",
        "        ax[1,i].set_axis_off()\n",
        "        ax[2,i].imshow(augint_noD_images[i].reshape((28,28,)))\n",
        "        ax[2,i].set_axis_off()\n",
        "        ax[3,i].imshow(augint_images[i].reshape((28,28,)))\n",
        "        ax[3,i].set_axis_off()\n",
        "\n",
        "    plt.show()\n",
        "    fig.savefig(\"reconstructed_digits.png\")\n",
        "\n"
      ],
      "execution_count": null,
      "outputs": []
    },
    {
      "cell_type": "markdown",
      "metadata": {
        "id": "IEtluiOezzDR"
      },
      "source": [
        "Visualize Reconstructions\n",
        "--------------------------"
      ]
    },
    {
      "cell_type": "code",
      "metadata": {
        "id": "HPEKFCQnzzDS",
        "colab": {
          "base_uri": "https://localhost:8080/",
          "height": 460
        },
        "outputId": "813b81c8-9d99-4b54-faa6-543eca26dc6d"
      },
      "source": [
        "import numpy as np\n",
        "import matplotlib.pyplot as plt\n",
        "plt.ion()\n",
        "\n",
        "import torchvision.utils\n",
        "\n",
        "encoder.eval()\n",
        "decoder.eval()\n",
        "\n",
        "# This function takes as an input the images to reconstruct\n",
        "# and the name of the model with which the reconstructions\n",
        "# are performed\n",
        "def to_img(x):\n",
        "    x = 0.5 * (x + 1)\n",
        "    x = x.clamp(0, 1)\n",
        "    return x\n",
        "\n",
        "def show_image(img):\n",
        "    img = to_img(img)\n",
        "    npimg = img.numpy()\n",
        "    plt.imshow(np.transpose(npimg, (1, 2, 0)))\n",
        "\n",
        "def visualise_output(images, model):\n",
        "\n",
        "    with torch.no_grad():\n",
        "\n",
        "        images = images.to(device)\n",
        "        images = model(images)\n",
        "        images = images.cpu()\n",
        "        images = to_img(images)\n",
        "        np_imagegrid = torchvision.utils.make_grid(images[1:50], 10, 5).numpy()\n",
        "        plt.imshow(np.transpose(np_imagegrid, (1, 2, 0)))\n",
        "        plt.show()\n",
        "\n",
        "images, labels = iter(test_dataloader).next()\n",
        "# I include it here because it was not included in universal img_transform\n",
        "images = torchvision.transforms.functional.normalize(images, mean=0.5, std=0.5)\n",
        "\n",
        "# First visualise the original images\n",
        "print('Original images')\n",
        "show_image(torchvision.utils.make_grid(images[1:50],10,5))\n",
        "plt.show()\n",
        "\n",
        "# Reconstruct and visualise the images using the autoencoder\n",
        "print('Autoencoder reconstruction:')\n",
        "visualise_output(images, lambda x: decoder(encoder(x)))"
      ],
      "execution_count": null,
      "outputs": [
        {
          "output_type": "stream",
          "text": [
            "Original images\n"
          ],
          "name": "stdout"
        },
        {
          "output_type": "display_data",
          "data": {
            "image/png": "[encoded data removed]",
            "text/plain": [
              "<Figure size 432x288 with 1 Axes>"
            ]
          },
          "metadata": {
            "tags": [],
            "needs_background": "light"
          }
        },
        {
          "output_type": "stream",
          "text": [
            "Autoencoder reconstruction:\n"
          ],
          "name": "stdout"
        },
        {
          "output_type": "display_data",
          "data": {
            "image/png": "[encoded data removed]",
            "text/plain": [
              "<Figure size 432x288 with 1 Axes>"
            ]
          },
          "metadata": {
            "tags": [],
            "needs_background": "light"
          }
        }
      ]
    },
    {
      "cell_type": "markdown",
      "metadata": {
        "id": "rM6kquQ3zzDT"
      },
      "source": [
        "Random Latent Vector (MNIST Generator)\n",
        "-------------------------------------------------"
      ]
    },
    {
      "cell_type": "code",
      "metadata": {
        "id": "qy3yV3JLzzDT",
        "colab": {
          "base_uri": "https://localhost:8080/",
          "height": 672
        },
        "outputId": "629f5ebd-84fa-47de-c104-7e85033b12cf"
      },
      "source": [
        "encoder = Encoder()\n",
        "encoder.load_state_dict(torch.load(\"AugInt_encoder50.pth\"))\n",
        "decoder = Decoder()\n",
        "decoder.load_state_dict(torch.load(\"AugInt_decoder50.pth\"))\n",
        "encoder = encoder.to(device)\n",
        "decoder = decoder.to(device)\n",
        "\n",
        "vanilla_encoder = Vanilla_Encoder()\n",
        "vanilla_encoder.load_state_dict(torch.load(\"vanilla_encoder50.pth\"))\n",
        "vanilla_decoder = Vanilla_Decoder()\n",
        "vanilla_decoder.load_state_dict(torch.load(\"vanilla_decoder50.pth\"))\n",
        "vanilla_encoder = vanilla_encoder.to(device)\n",
        "vanilla_decoder = vanilla_decoder.to(device)\n",
        "\n",
        "noD_encoder = Encoder()\n",
        "noD_encoder.load_state_dict(torch.load(\"AugInt_nodiscrim_encoder50.pth\"))\n",
        "noD_decoder = Decoder()\n",
        "noD_decoder.load_state_dict(torch.load(\"AugInt_nodiscrim_decoder50.pth\"))\n",
        "noD_encoder = noD_encoder.to(device)\n",
        "noD_decoder = noD_decoder.to(device)\n",
        "\n",
        "with torch.no_grad():\n",
        "    # approx. fit a multivariate Normal distribution (with diagonal cov.) to the latent vectors of a random part of the test set\n",
        "    images, labels = iter(test_dataloader).next()\n",
        "    # I include it here because it was not included in universal img_transform\n",
        "    images = torchvision.transforms.functional.normalize(images, mean=0.5, std=0.5)\n",
        "    images = images.to(device)\n",
        "    \n",
        "    \n",
        "    #Adversarial AugIntAE#\n",
        "    latent = encoder(images)\n",
        "    latent = latent.cpu()\n",
        "\n",
        "    mean = latent.mean(dim=0)\n",
        "    std = (latent - mean).pow(2).mean(dim=0).sqrt()\n",
        "\n",
        "    # sample latent vectors from the normal distribution\n",
        "    latent = torch.randn(128, latent_dims) * std + mean\n",
        "\n",
        "    # reconstruct images from the latent vectors\n",
        "    latent = latent.to(device)\n",
        "    adv_augintAE_img_recon = to_img(decoder(latent)[:5])\n",
        "\n",
        "\n",
        "    #VanillaAE#\n",
        "    latent = vanilla_encoder(images)\n",
        "    latent = latent.cpu()\n",
        "\n",
        "    mean = latent.mean(dim=0)\n",
        "    std = (latent - mean).pow(2).mean(dim=0).sqrt()\n",
        "\n",
        "    latent = torch.randn(128, latent_dims) * std + mean\n",
        "\n",
        "    latent = latent.to(device)\n",
        "    vanilla_img_recon = to_img(vanilla_decoder(latent)[:5])\n",
        "\n",
        "    #AugIntAE#\n",
        "    latent = noD_encoder(images)\n",
        "    latent = latent.cpu()\n",
        "\n",
        "    mean = latent.mean(dim=0)\n",
        "    std = (latent - mean).pow(2).mean(dim=0).sqrt()\n",
        "\n",
        "    latent = torch.randn(128, latent_dims) * std + mean\n",
        "\n",
        "    latent = latent.to(device)\n",
        "    augintAE_img_recon = to_img(noD_decoder(latent)[:5])\n",
        "\n",
        "\n",
        "    fig, ax  = plt.subplots(3, 5,figsize=(15,15))\n",
        "    fig.tight_layout(h_pad=-35)\n",
        "\n",
        "    for i in range(5):\n",
        "        ax[0,i].imshow(vanilla_img_recon[i].reshape((28,28,)))\n",
        "        ax[0,i].set_axis_off()\n",
        "        ax[1,i].imshow(augintAE_img_recon[i].reshape((28,28,)))\n",
        "        ax[1,i].set_axis_off()\n",
        "        ax[2,i].imshow(adv_augintAE_img_recon[i].reshape((28,28,)))\n",
        "        ax[2,i].set_axis_off()\n",
        "\n",
        "    plt.show()\n",
        "    fig.savefig(\"generated_digits.png\")"
      ],
      "execution_count": null,
      "outputs": [
        {
          "output_type": "display_data",
          "data": {
            "image/png": "[encoded data removed]",
            "text/plain": [
              "<Figure size 1080x1080 with 15 Axes>"
            ]
          },
          "metadata": {
            "tags": [],
            "needs_background": "light"
          }
        }
      ]
    },
    {
      "cell_type": "markdown",
      "metadata": {
        "id": "uGiiQr5yitDF"
      },
      "source": [
        "# FID Calculator for the generated digits"
      ]
    },
    {
      "cell_type": "code",
      "metadata": {
        "id": "YQzxwthCWZyZ"
      },
      "source": [
        "vanilla_encoder = Vanilla_Encoder()\n",
        "vanilla_encoder.load_state_dict(torch.load(\"vanilla_encoder50.pth\"))\n",
        "vanilla_decoder = Vanilla_Decoder()\n",
        "vanilla_decoder.load_state_dict(torch.load(\"vanilla_decoder50.pth\"))\n",
        "vanilla_encoder = vanilla_encoder.to(device)\n",
        "vanilla_decoder = vanilla_decoder.to(device)\n",
        "\n",
        "\n",
        "def to_img(x):\n",
        "    x = 0.5 * (x + 1)\n",
        "    x = x.clamp(0, 1)\n",
        "    return x.cpu().detach().numpy()\n",
        "\n",
        "test_loss_avg, num_batches = 0, 0\n",
        "data = []\n",
        "j=0\n",
        "for image_batch, _ in test_dataloader:\n",
        "    print(j)\n",
        "    if j == 16:\n",
        "      break\n",
        "\n",
        "    image_batch = torchvision.transforms.functional.normalize(image_batch, mean=0.5, std=0.5)\n",
        "    image_batch = image_batch.to(device)\n",
        "    \n",
        "    with torch.no_grad():\n",
        "      #Adversarial AugIntAE#\n",
        "      latent = vanilla_encoder(image_batch)\n",
        "      latent = latent.cpu()\n",
        "\n",
        "      mean = latent.mean(dim=0)\n",
        "      std = (latent - mean).pow(2).mean(dim=0).sqrt()\n",
        "\n",
        "      # sample latent vectors from the normal distribution\n",
        "      latent = torch.randn(128, latent_dims) * std + mean\n",
        "\n",
        "      # reconstruct images from the latent vectors\n",
        "      latent = latent.to(device)\n",
        "      adv_augintAE_img_recon = to_img(vanilla_decoder(latent))\n",
        "      image_batch = image_batch.cpu().detach().numpy()\n",
        "      for i in range(adv_augintAE_img_recon.shape[0]):\n",
        "          #cv2.imwrite(\"Test/image_%s_%s.jpeg\"%(i,j),image_batch[i,:,:,:].reshape((28,28,))*255)\n",
        "          cv2.imwrite(\"VanillaAE/image_%s_%s.jpeg\"%(i,j),adv_augintAE_img_recon[i,:,:,:].reshape((28,28,))*255)         \n",
        "      j+=1\n",
        "      "
      ],
      "execution_count": null,
      "outputs": []
    },
    {
      "cell_type": "code",
      "metadata": {
        "id": "MHzl0puUaKr_"
      },
      "source": [
        "!python -m pytorch_fid Test/ VanillaAE/"
      ],
      "execution_count": null,
      "outputs": []
    },
    {
      "cell_type": "markdown",
      "metadata": {
        "id": "-sfVV1cUuQkS"
      },
      "source": [
        "# EMNIST Few-shot"
      ]
    },
    {
      "cell_type": "code",
      "metadata": {
        "id": "26I9sbANWYpo"
      },
      "source": [
        "#Importing EMNIST data\n",
        "\n",
        "img_transform = transforms.Compose([\n",
        "    transforms.ToTensor(),\n",
        "    # transforms.Normalize((0.5,), (0.5,)) # I don't include it here cuz affine needs [0, 1]\n",
        "])\n",
        "\n",
        "train_dataset = EMNIST(root='./data/EMNIST', download=True, train=True, transform=img_transform, split=\"letters\")\n",
        "emnist_train_dataloader = DataLoader(train_dataset, batch_size=batch_size, shuffle=True)\n",
        "\n",
        "test_dataset = EMNIST(root='./data/EMNIST', download=True, train=False, transform=img_transform,split=\"letters\")\n",
        "emnist_test_dataloader = DataLoader(test_dataset, batch_size=batch_size, shuffle=True)"
      ],
      "execution_count": null,
      "outputs": []
    },
    {
      "cell_type": "code",
      "metadata": {
        "id": "xK8lEd1ITgIR"
      },
      "source": [
        "#Useful functions\n",
        "def to_img(x):\n",
        "    x = 0.5 * (x + 1)\n",
        "    x = x.clamp(0, 1)\n",
        "    return x\n",
        "\n",
        "def show_image(img):\n",
        "    img = to_img(img)\n",
        "    npimg = img.numpy()\n",
        "    plt.imshow(np.transpose(npimg, (1, 2, 0)))\n",
        "\n",
        "def visualise_output(images, model):\n",
        "\n",
        "    with torch.no_grad():\n",
        "\n",
        "        images = images.to(device)\n",
        "        images = model(images)\n",
        "        images = images.cpu()\n",
        "        images = to_img(images)\n",
        "        np_imagegrid = torchvision.utils.make_grid(images[1:50], 10, 5).numpy()\n",
        "        plt.imshow(np.transpose(np_imagegrid, (1, 2, 0)))\n",
        "        plt.show()"
      ],
      "execution_count": null,
      "outputs": []
    },
    {
      "cell_type": "code",
      "metadata": {
        "id": "QF0T2ReyuMlo"
      },
      "source": [
        "\n",
        "vanilla_encoder = Vanilla_Encoder()\n",
        "vanilla_encoder.load_state_dict(torch.load(\"vanilla_encoder50_32lat.pth\"))\n",
        "vanilla_decoder = Vanilla_Decoder()\n",
        "vanilla_decoder.load_state_dict(torch.load(\"vanilla_decoder50_32lat.pth\"))\n",
        "vanilla_encoder = vanilla_encoder.to(device)\n",
        "vanilla_decoder = vanilla_decoder.to(device)\n",
        "\n",
        "noD_encoder = NoD_Encoder()\n",
        "noD_encoder.load_state_dict(torch.load(\"AugInt_nodiscrim_encoder50_32lat.pth\"))\n",
        "noD_decoder = NoD_Decoder()\n",
        "noD_decoder.load_state_dict(torch.load(\"AugInt_nodiscrim_decoder50_32lat.pth\"))\n",
        "noD_encoder = noD_encoder.to(device)\n",
        "noD_decoder = noD_decoder.to(device)\n",
        "\n",
        "encoder = Encoder()\n",
        "encoder.load_state_dict(torch.load(\"AugInt_encoder50_32lat.pth\"))\n",
        "decoder = Decoder()\n",
        "decoder.load_state_dict(torch.load(\"AugInt_decoder50_32lat.pth\"))\n",
        "encoder = encoder.to(device)\n",
        "decoder = decoder.to(device)\n",
        "\n",
        "images, labels = iter(emnist_test_dataloader).next()\n",
        "\n",
        "images = torchvision.transforms.functional.hflip(images)\n",
        "images = torchvision.transforms.functional.affine(images, angle=-90, translate=(0,0),scale=1,shear=(0,0))\n",
        "images = torchvision.transforms.functional.normalize(images, mean=0.5, std=0.5)\n",
        "\n",
        "# First visualise the original images\n",
        "print('Original images')\n",
        "show_image(torchvision.utils.make_grid(images[0:50],10,5))\n",
        "plt.axis(\"off\")\n",
        "plt.savefig(\"original.png\")\n",
        "plt.show()\n",
        "\n",
        "\n",
        "augmentations_1 = sample_augmentations(augmentation_ranges)\n",
        "augmentations_2 = sample_augmentations(augmentation_ranges)\n",
        "images_1 = apply_augmentations(images, augmentations_1)\n",
        "images_2 = apply_augmentations(images, augmentations_2)\n",
        "#print('Augmented images 1')\n",
        "#show_image(torchvision.utils.make_grid(images_1[:50],10,5))\n",
        "#plt.show()\n",
        "\n",
        "#print('Augmented images 2')\n",
        "#show_image(torchvision.utils.make_grid(images_2[0:50],10,5))\n",
        "#plt.show()\n",
        "\n",
        "images_1 = images_1.to(device)\n",
        "images_2 = images_2.to(device)\n",
        "\n",
        "#Classical VanillaAE\n",
        "vanilla_latent = vanilla_encoder(images.cuda())\n",
        "vanilla_output = vanilla_decoder(vanilla_latent).cpu().detach()\n",
        "\n",
        "alpha=torch.distributions.uniform.Uniform(0.,1.).sample().numpy()\n",
        "\n",
        "#Combined VanillaAE\n",
        "latent_1 = vanilla_encoder(images_1)\n",
        "latent_2 = vanilla_encoder(images_2)\n",
        "combined_latent = 0.5 * latent_1 + 0.5 * latent_2\n",
        "combined_vanilla = vanilla_decoder(combined_latent).cpu().detach()\n",
        "\n",
        "#NoD AugIntAE\n",
        "latent_1 = noD_encoder(images_1)\n",
        "latent_2 = noD_encoder(images_2)\n",
        "combined_latent = 0.5 * latent_1 + 0.5 * latent_2\n",
        "combined_NoD = noD_decoder(combined_latent).cpu().detach()\n",
        "\n",
        "\n",
        "#Adversarial AugIntAE\n",
        "latent_1 = encoder(images_1)\n",
        "latent_2 = encoder(images_2)\n",
        "\n",
        "alpha=torch.distributions.uniform.Uniform(0.,1.).sample()\n",
        "\n",
        "combined_latent = alpha * latent_1 + (1-alpha) * latent_2\n",
        "combined = decoder(combined_latent).cpu().detach()\n",
        "\n",
        "print(\"Few-shot generation\")\n",
        "show_image(torchvision.utils.make_grid(combined[0:50],10,5))\n",
        "plt.axis(\"off\")\n",
        "plt.savefig(\"AdvAugInt_fewshot.png\")\n",
        "plt.show()\n",
        "\n",
        "fig, ax  = plt.subplots(4, 7,figsize=(15,15))\n",
        "fig.tight_layout(h_pad=-35)\n",
        "\n",
        "for i in range(7):\n",
        "    ax[0,i].imshow(images[i].reshape((28,28,)))\n",
        "    ax[0,i].set_axis_off()\n",
        "    ax[1,i].imshow(vanilla_output[i].reshape((28,28,)))\n",
        "    ax[1,i].set_axis_off()\n",
        "    ax[2,i].imshow(combined_vanilla[i].reshape((28,28,)))\n",
        "    ax[2,i].set_axis_off()\n",
        "    #ax[3,i].imshow(combined[i].reshape((28,28,)))\n",
        "    #ax[3,i].set_axis_off()\n",
        "\n",
        "#plt.savefig(\"vanilla_comparison1.png\")\n",
        "#plt.show()\n",
        "\n"
      ],
      "execution_count": null,
      "outputs": []
    },
    {
      "cell_type": "markdown",
      "metadata": {
        "id": "YmUaLSWCTsV2"
      },
      "source": [
        "# FID calculation on EMNIST"
      ]
    },
    {
      "cell_type": "code",
      "metadata": {
        "id": "QwXLzsqgyKcz"
      },
      "source": [
        "#Generating images for FID calculation\n",
        "for image_batch, _ in emnist_test_dataloader:\n",
        "    image_batch = torchvision.transforms.functional.hflip(image_batch)\n",
        "    image_batch = torchvision.transforms.functional.affine(image_batch, angle=-90, translate=(0,0),scale=1,shear=(0,0))\n",
        "    image_batch = torchvision.transforms.functional.normalize(image_batch, mean=0.5, std=0.5)\n",
        "\n",
        "    augmentations_1 = sample_augmentations(augmentation_ranges)\n",
        "    augmentations_2 = sample_augmentations(augmentation_ranges)\n",
        "    images_1 = apply_augmentations(images, augmentations_1)\n",
        "    images_2 = apply_augmentations(images, augmentations_2)\n",
        "\n",
        "    if j == 16:\n",
        "        break\n",
        "    \n",
        "    with torch.no_grad():\n",
        "\n",
        "        images = images.to(device)\n",
        "\n",
        "        latent = vanilla_encoder(images)\n",
        "\n",
        "        combined_output = vanilla_decoder(latent).cpu().detach().numpy()\n",
        "\n",
        "        image_batch = image_batch.cpu().detach().numpy()\n",
        "\n",
        "        for i in range(combined_output.shape[0]):\n",
        "            #cv2.imwrite(\"EMNIST/image_%s_%s.jpeg\"%(i,j),image_batch[i,:,:,:].reshape((28,28,))*255)\n",
        "            cv2.imwrite(\"EMNIST_Vanilla/image_%s_%s.jpeg\"%(i,j),combined_output[i,:,:,:].reshape((28,28,))*255)\n",
        "            \n",
        "    \n",
        "    print(j)\n",
        "    j+=1"
      ],
      "execution_count": null,
      "outputs": []
    },
    {
      "cell_type": "code",
      "metadata": {
        "id": "g7CwYc8CmGNA"
      },
      "source": [
        "!python -m pytorch_fid EMNIST/ EMNIST_Vanilla/"
      ],
      "execution_count": null,
      "outputs": []
    },
    {
      "cell_type": "markdown",
      "metadata": {
        "id": "sZPugihjT6d4"
      },
      "source": [
        "# Fashion MNIST"
      ]
    },
    {
      "cell_type": "code",
      "metadata": {
        "colab": {
          "base_uri": "https://localhost:8080/",
          "height": 1000
        },
        "id": "q24pXpFcqxR5",
        "outputId": "f76d8308-2965-4edf-d2dd-548ba6404882"
      },
      "source": [
        "img_transform = transforms.Compose([\n",
        "    transforms.ToTensor(),\n",
        "    # transforms.Normalize((0.5,), (0.5,)) # I don't include it here cuz affine needs [0, 1]\n",
        "])\n",
        "\n",
        "train_dataset = FashionMNIST(root='./data/FMNIST', download=True, train=True, transform=img_transform)\n",
        "fmnist_train_dataloader = DataLoader(train_dataset, batch_size=batch_size, shuffle=True)\n",
        "\n",
        "test_dataset = FashionMNIST(root='./data/FMNIST', download=True, train=False, transform=img_transform)\n",
        "fmnist_test_dataloader = DataLoader(test_dataset, batch_size=batch_size, shuffle=True)\n",
        "\n",
        "\n",
        "vanilla_encoder = Vanilla_Encoder()\n",
        "vanilla_encoder.load_state_dict(torch.load(\"vanilla_encoder50_32lat.pth\"))\n",
        "vanilla_decoder = Vanilla_Decoder()\n",
        "vanilla_decoder.load_state_dict(torch.load(\"vanilla_decoder50_32lat.pth\"))\n",
        "vanilla_encoder = vanilla_encoder.to(device)\n",
        "vanilla_decoder = vanilla_decoder.to(device)\n",
        "\n",
        "noD_encoder = NoD_Encoder()\n",
        "noD_encoder.load_state_dict(torch.load(\"AugInt_nodiscrim_encoder50_32lat.pth\"))\n",
        "noD_decoder = NoD_Decoder()\n",
        "noD_decoder.load_state_dict(torch.load(\"AugInt_nodiscrim_decoder50_32lat.pth\"))\n",
        "noD_encoder = noD_encoder.to(device)\n",
        "noD_decoder = noD_decoder.to(device)\n",
        "\n",
        "encoder = Encoder()\n",
        "encoder.load_state_dict(torch.load(\"AugInt_encoder50_32lat.pth\"))\n",
        "decoder = Decoder()\n",
        "decoder.load_state_dict(torch.load(\"AugInt_decoder50_32lat.pth\"))\n",
        "encoder = encoder.to(device)\n",
        "decoder = decoder.to(device)\n",
        "\n",
        "images, labels = iter(fmnist_test_dataloader).next()\n",
        "\n",
        "#images = torchvision.transforms.functional.hflip(images)\n",
        "#images = torchvision.transforms.functional.affine(images, angle=-90, translate=(0,0),scale=1,shear=(0,0))\n",
        "images = torchvision.transforms.functional.normalize(images, mean=0.5, std=0.5)\n",
        "\n",
        "# First visualise the original images\n",
        "print('Original images')\n",
        "show_image(torchvision.utils.make_grid(images[0:50],10,5))\n",
        "plt.axis(\"off\")\n",
        "#plt.savefig(\"original.png\")\n",
        "plt.show()\n",
        "\n",
        "\n",
        "augmentations_1 = sample_augmentations(augmentation_ranges)\n",
        "augmentations_2 = sample_augmentations(augmentation_ranges)\n",
        "images_1 = apply_augmentations(images, augmentations_1)\n",
        "images_2 = apply_augmentations(images, augmentations_2)\n",
        "#print('Augmented images 1')\n",
        "#show_image(torchvision.utils.make_grid(images_1[:50],10,5))\n",
        "#plt.show()\n",
        "\n",
        "#print('Augmented images 2')\n",
        "#show_image(torchvision.utils.make_grid(images_2[0:50],10,5))\n",
        "#plt.show()\n",
        "\n",
        "images_1 = images_1.to(device)\n",
        "images_2 = images_2.to(device)\n",
        "\n",
        "#Classical vanilla\n",
        "vanilla_latent = vanilla_encoder(images.cuda())\n",
        "vanilla_output = vanilla_decoder(vanilla_latent).cpu().detach()\n",
        "\n",
        "alpha=torch.distributions.uniform.Uniform(0.,1.).sample().numpy()\n",
        "\n",
        "#Combined vanilla\n",
        "latent_1 = vanilla_encoder(images_1)\n",
        "latent_2 = vanilla_encoder(images_2)\n",
        "combined_latent = 0.5 * latent_1 + 0.5 * latent_2\n",
        "combined_vanilla = vanilla_decoder(combined_latent).cpu().detach()\n",
        "\n",
        "#NoDAugIntAE\n",
        "latent_1 = noD_encoder(images_1)\n",
        "latent_2 = noD_encoder(images_2)\n",
        "combined_latent = 0.5 * latent_1 + 0.5 * latent_2\n",
        "combined_NoD = noD_decoder(combined_latent).cpu().detach()\n",
        "\n",
        "\n",
        "#AdvAugIntAE\n",
        "latent_1 = encoder(images_1)\n",
        "latent_2 = encoder(images_2)\n",
        "\n",
        "alpha=torch.distributions.uniform.Uniform(0.,1.).sample()\n",
        "\n",
        "combined_latent = alpha * latent_1 + (1-alpha) * latent_2\n",
        "combined = decoder(combined_latent).cpu().detach()\n",
        "\n",
        "print(\"Few-shot generation\")\n",
        "show_image(torchvision.utils.make_grid(combined[0:50],10,5))\n",
        "plt.axis(\"off\")\n",
        "#plt.savefig(\"AdvAugInt_fewshot.png\")\n",
        "plt.show()\n",
        "\n",
        "fig, ax  = plt.subplots(4, 7,figsize=(15,15))\n",
        "fig.tight_layout(h_pad=-35)\n",
        "\n",
        "for i in range(7):\n",
        "    ax[0,i].imshow(images[i].reshape((28,28,)))\n",
        "    ax[0,i].set_axis_off()\n",
        "    ax[1,i].imshow(vanilla_output[i].reshape((28,28,)))\n",
        "    ax[1,i].set_axis_off()\n",
        "    ax[2,i].imshow(combined_vanilla[i].reshape((28,28,)))\n",
        "    ax[2,i].set_axis_off()\n",
        "    ax[3,i].imshow(combined[i].reshape((28,28,)))\n",
        "    ax[3,i].set_axis_off()\n",
        "\n",
        "plt.savefig(\"fmnistcomparison1.png\")\n",
        "plt.show()\n",
        "\n"
      ],
      "execution_count": null,
      "outputs": [
        {
          "output_type": "stream",
          "text": [
            "Original images\n"
          ],
          "name": "stdout"
        },
        {
          "output_type": "display_data",
          "data": {
            "image/png": "[encoded data removed]",
            "text/plain": [
              "<Figure size 432x288 with 1 Axes>"
            ]
          },
          "metadata": {
            "tags": [],
            "needs_background": "light"
          }
        },
        {
          "output_type": "stream",
          "text": [
            "Few-shot generation\n"
          ],
          "name": "stdout"
        },
        {
          "output_type": "display_data",
          "data": {
            "image/png": "[encoded data removed]",
            "text/plain": [
              "<Figure size 432x288 with 1 Axes>"
            ]
          },
          "metadata": {
            "tags": [],
            "needs_background": "light"
          }
        },
        {
          "output_type": "display_data",
          "data": {
            "image/png": "[encoded data removed]",
            "text/plain": [
              "<Figure size 1080x1080 with 28 Axes>"
            ]
          },
          "metadata": {
            "tags": [],
            "needs_background": "light"
          }
        }
      ]
    },
    {
      "cell_type": "code",
      "metadata": {
        "id": "X4nYCY7fqwoa"
      },
      "source": [
        ""
      ],
      "execution_count": null,
      "outputs": []
    }
  ]
}